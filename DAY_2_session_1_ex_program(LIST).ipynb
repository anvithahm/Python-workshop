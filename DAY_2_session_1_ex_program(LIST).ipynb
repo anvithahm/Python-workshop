{
  "nbformat": 4,
  "nbformat_minor": 0,
  "metadata": {
    "colab": {
      "name": "DAY-2-session_1_ex_program(LIST).ipynb",
      "provenance": [],
      "private_outputs": true,
      "authorship_tag": "ABX9TyNjDlgYIP9WiIJ2woYnGWzW",
      "include_colab_link": true
    },
    "kernelspec": {
      "name": "python3",
      "display_name": "Python 3"
    }
  },
  "cells": [
    {
      "cell_type": "markdown",
      "metadata": {
        "id": "view-in-github",
        "colab_type": "text"
      },
      "source": [
        "<a href=\"https://colab.research.google.com/github/anvithahm/Python-workshop/blob/master/DAY_2_session_1_ex_program(LIST).ipynb\" target=\"_parent\"><img src=\"https://colab.research.google.com/assets/colab-badge.svg\" alt=\"Open In Colab\"/></a>"
      ]
    },
    {
      "cell_type": "code",
      "metadata": {
        "id": "XWbtIYyPFRli",
        "colab_type": "code",
        "colab": {}
      },
      "source": [
        ""
      ],
      "execution_count": null,
      "outputs": []
    },
    {
      "cell_type": "markdown",
      "metadata": {
        "id": "Hd35UApuKMdT",
        "colab_type": "text"
      },
      "source": [
        "#1. Program to find the largest number in a list."
      ]
    },
    {
      "cell_type": "code",
      "metadata": {
        "id": "FIr2xlEBKSgD",
        "colab_type": "code",
        "colab": {}
      },
      "source": [
        "a=[]\n",
        "n=int(input(\"Enter number of elements:\"))\n",
        "for i in range(1,n+1):\n",
        "    b=int(input(\"Enter element:\"))\n",
        "    a.append(b)\n",
        "a.sort()\n",
        "print(\"Largest element is:\",a[n-1])\n"
      ],
      "execution_count": null,
      "outputs": []
    },
    {
      "cell_type": "markdown",
      "metadata": {
        "id": "lF78LdUTKVwX",
        "colab_type": "text"
      },
      "source": [
        "# 2.Pythonic 2 lines program equivalent to above codings"
      ]
    },
    {
      "cell_type": "code",
      "metadata": {
        "id": "CbqKdvWnKnE6",
        "colab_type": "code",
        "colab": {}
      },
      "source": [
        "x=0\n",
        "print('The greatest no is',max([int(input(x)) for _ in range(int(input(\"Enter no\")))]))\n"
      ],
      "execution_count": null,
      "outputs": []
    },
    {
      "cell_type": "markdown",
      "metadata": {
        "id": "WGtyxJFJKqb9",
        "colab_type": "text"
      },
      "source": [
        "# 3.Python Program to put the even and odd elements in a list into two different lists."
      ]
    },
    {
      "cell_type": "code",
      "metadata": {
        "id": "fm7My4CyK142",
        "colab_type": "code",
        "colab": {}
      },
      "source": [
        "a=[]\n",
        "n=int(input(\"Enter number of elements:\"))\n",
        "for i in range(1,n+1):\n",
        "    b=int(input(\"Enter element:\"))\n",
        "    a.append(b)\n",
        "even=[]\n",
        "odd=[]\n",
        "for j in a:\n",
        "    if(j%2==0):\n",
        "        even.append(j)\n",
        "    else:\n",
        "        odd.append(j)\n",
        "print(\"The even list\",even)\n",
        "print(\"The odd list\",odd)"
      ],
      "execution_count": null,
      "outputs": []
    },
    {
      "cell_type": "markdown",
      "metadata": {
        "id": "A2usf9ZdK47D",
        "colab_type": "text"
      },
      "source": [
        "Instead of forementioned 14 lines program, the equivalent 4 lines !\n",
        "# Pythonic program is here ...."
      ]
    },
    {
      "cell_type": "code",
      "metadata": {
        "id": "9VT2eQ0TLB5P",
        "colab_type": "code",
        "colab": {}
      },
      "source": [
        "x=0\n",
        "l=[int(input(x)) for _ in range(int(input(\"Enter n\")))]\n",
        "print('even list is',[ i for i in l if not i%2])\n",
        "print('odd list is',[i for i in l if  i%2])\n"
      ],
      "execution_count": null,
      "outputs": []
    },
    {
      "cell_type": "markdown",
      "metadata": {
        "id": "9CkV6YZ1LFdx",
        "colab_type": "text"
      },
      "source": [
        "# Python Program to merge two lists and sort it."
      ]
    },
    {
      "cell_type": "code",
      "metadata": {
        "id": "ZneN9JicLJbu",
        "colab_type": "code",
        "colab": {}
      },
      "source": [
        "a=[]\n",
        "c=[]\n",
        "n1=int(input(\"Enter number of elements:\"))\n",
        "for i in range(1,n1+1):\n",
        "    b=int(input(\"Enter element:\"))\n",
        "    a.append(b)\n",
        "n2=int(input(\"Enter number of elements:\"))\n",
        "for i in range(1,n2+1):\n",
        "    d=int(input(\"Enter element:\"))\n",
        "    c.append(d)\n",
        "new=a+c\n",
        "new.sort()\n",
        "print(\"Sorted list is:\",new)"
      ],
      "execution_count": null,
      "outputs": []
    },
    {
      "cell_type": "markdown",
      "metadata": {
        "id": "8ue8ISPELOHF",
        "colab_type": "text"
      },
      "source": [
        "# Pythonic program is here ...."
      ]
    },
    {
      "cell_type": "code",
      "metadata": {
        "id": "sljEHu8bLTi0",
        "colab_type": "code",
        "colab": {}
      },
      "source": [
        "x=0\n",
        "l=[int(input(x)) for _ in range(int(input(\"Enter how many elements\")))]\n",
        "m=[int(input(x)) for _ in range(int(input(\"Enter how many elements \")))]\n",
        "new=l+m\n",
        "new.sort()\n",
        "print(\"Sorted list is:\",new)\n"
      ],
      "execution_count": null,
      "outputs": []
    },
    {
      "cell_type": "markdown",
      "metadata": {
        "id": "T53TPZp0LWJq",
        "colab_type": "text"
      },
      "source": [
        "# Python Program to sort the list according to the second element in the sublist."
      ]
    },
    {
      "cell_type": "code",
      "metadata": {
        "id": "Tpc5wBkYLa3R",
        "colab_type": "code",
        "colab": {}
      },
      "source": [
        "a=[['A',34],['B',21],['C',26],['E',29]]\n",
        "for i in range(0,len(a)):\n",
        "    for j in range(i+1,len(a)):\n",
        "        if(a[i][1]>a[j][1]):\n",
        "            temp=a[j]\n",
        "            a[j]=a[i]\n",
        "            a[i]=temp\n",
        "print(a)\n"
      ],
      "execution_count": null,
      "outputs": []
    },
    {
      "cell_type": "markdown",
      "metadata": {
        "id": "MlI9E_Q3Lr95",
        "colab_type": "text"
      },
      "source": [
        "# Pythonic program is here ...."
      ]
    },
    {
      "cell_type": "code",
      "metadata": {
        "id": "LaI2s1jFLv6G",
        "colab_type": "code",
        "colab": {}
      },
      "source": [
        "a=[['A',34],['B',21],['C',26],['E',29]]\n",
        "a.sort(key = lambda x: x[1]) \n",
        "print(a)\n",
        "\n"
      ],
      "execution_count": null,
      "outputs": []
    },
    {
      "cell_type": "markdown",
      "metadata": {
        "id": "1W4COfZwL7Sr",
        "colab_type": "text"
      },
      "source": [
        "# Python Program to find the second largest number in a list"
      ]
    },
    {
      "cell_type": "code",
      "metadata": {
        "id": "7YzLkQQxL9Ll",
        "colab_type": "code",
        "colab": {}
      },
      "source": [
        "a=[]\n",
        "n=int(input(\"Enter number of elements:\"))\n",
        "for i in range(1,n+1):\n",
        "    b=int(input(\"Enter element:\"))\n",
        "    a.append(b)\n",
        "for i in range(0,len(a)):\n",
        "    for j in range(0,len(a)-i-1):\n",
        "        if(a[j]>a[j+1]):\n",
        "            temp=a[j]\n",
        "            a[j]=a[j+1]\n",
        "            a[j+1]=temp \n",
        "print('Second largest number is:',a[n-2])\n"
      ],
      "execution_count": null,
      "outputs": []
    },
    {
      "cell_type": "markdown",
      "metadata": {
        "id": "6x8OCcjaMFA2",
        "colab_type": "text"
      },
      "source": [
        "# Pythonic program is here ...."
      ]
    },
    {
      "cell_type": "code",
      "metadata": {
        "id": "9dtwAYbrMJPq",
        "colab_type": "code",
        "colab": {}
      },
      "source": [
        "x=0\n",
        "l=[int(input(x)) for _ in range(int(input(\"Enter how many elements\")))]\n",
        "l.sort()\n",
        "print(\"Second largest element is :\",l[-2])\n"
      ],
      "execution_count": null,
      "outputs": []
    },
    {
      "cell_type": "markdown",
      "metadata": {
        "id": "GQuUWmtDMN7y",
        "colab_type": "text"
      },
      "source": [
        "## Program to create a list of tuples with the first element as the number and the second element as the square of the number.\n"
      ]
    },
    {
      "cell_type": "code",
      "metadata": {
        "id": "UePb8QTQMc6E",
        "colab_type": "code",
        "colab": {}
      },
      "source": [
        "l_range=int(input(\"Enter the lower range:\"))\n",
        "u_range=int(input(\"Enter the upper range:\"))\n",
        "a=[(x,x**2) for x in range(l_range,u_range+1)]\n",
        "print(a)\n"
      ],
      "execution_count": null,
      "outputs": []
    },
    {
      "cell_type": "markdown",
      "metadata": {
        "id": "GmoT75YnMzuN",
        "colab_type": "text"
      },
      "source": [
        "# pythonic as follows"
      ]
    },
    {
      "cell_type": "code",
      "metadata": {
        "id": "kAw0JOBIM4AS",
        "colab_type": "code",
        "colab": {}
      },
      "source": [
        "a=[(x,x**2) for x in range(int(input(\"Enter the lower range:\")),\\\n",
        "                           int(input(\"Enter the upper range:\"))+1)]\n",
        "print(a)\n",
        "\n",
        "# Of course, We can write in the most pythonic way with one line ! as follows\n",
        "\n",
        "print([(x,x**2) for x in range(int(input(\"Enter the lower range:\")),\\\n",
        "                           int(input(\"Enter the upper range:\"))+1)])\n"
      ],
      "execution_count": null,
      "outputs": []
    },
    {
      "cell_type": "markdown",
      "metadata": {
        "id": "zUOF-NUlM8EJ",
        "colab_type": "text"
      },
      "source": [
        "##Python Program to generate random numbers from 1 to 20 and append them to the list.\n"
      ]
    },
    {
      "cell_type": "code",
      "metadata": {
        "id": "-WiQ5B_YNNYK",
        "colab_type": "code",
        "colab": {}
      },
      "source": [
        "import random\n",
        "a=[]\n",
        "n=int(input(\"Enter number of elements:\"))\n",
        "for j in range(n):\n",
        "    a.append(random.randint(1,20))\n",
        "print('Randomised list is: ',a)\n"
      ],
      "execution_count": null,
      "outputs": []
    }
  ]
}