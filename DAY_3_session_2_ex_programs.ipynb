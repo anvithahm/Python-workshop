{
  "nbformat": 4,
  "nbformat_minor": 0,
  "metadata": {
    "colab": {
      "name": "DAY_3_session_2_ex_programs.ipynb",
      "provenance": [],
      "private_outputs": true,
      "authorship_tag": "ABX9TyO4RbJmsPsdwY8rnC/DlXKY",
      "include_colab_link": true
    },
    "kernelspec": {
      "name": "python3",
      "display_name": "Python 3"
    }
  },
  "cells": [
    {
      "cell_type": "markdown",
      "metadata": {
        "id": "view-in-github",
        "colab_type": "text"
      },
      "source": [
        "<a href=\"https://colab.research.google.com/github/anvithahm/Python-workshop/blob/master/DAY_3_session_2_ex_programs.ipynb\" target=\"_parent\"><img src=\"https://colab.research.google.com/assets/colab-badge.svg\" alt=\"Open In Colab\"/></a>"
      ]
    },
    {
      "cell_type": "code",
      "metadata": {
        "id": "0yMDwGQVawHK",
        "colab_type": "code",
        "colab": {}
      },
      "source": [
        ""
      ],
      "execution_count": null,
      "outputs": []
    },
    {
      "cell_type": "markdown",
      "metadata": {
        "id": "eet2-Iwua2Sj",
        "colab_type": "text"
      },
      "source": [
        "# Write a Python Program to Print Multiplication Table of a  number which got through keyboard."
      ]
    },
    {
      "cell_type": "code",
      "metadata": {
        "id": "ZbAqB3S-a6Fv",
        "colab_type": "code",
        "colab": {}
      },
      "source": [
        "n = int(input(\"Enter a number : \"))\n",
        "for i in range(1,11):\n",
        "  print(f\"{n} x {i} = {n*i}\")"
      ],
      "execution_count": null,
      "outputs": []
    },
    {
      "cell_type": "markdown",
      "metadata": {
        "id": "qHAPr2FMbAGo",
        "colab_type": "text"
      },
      "source": [
        "# Write a  Python Program to find the Armstrong Numbers between 1 and 2000 ( i.e 153 is amtrong numbers as 1**3+5**3+3**3=153 )"
      ]
    },
    {
      "cell_type": "code",
      "metadata": {
        "id": "IAEGTIjJbBCh",
        "colab_type": "code",
        "colab": {}
      },
      "source": [
        "for i in range(1,2001):\n",
        "  l = list(map(int,str(i).strip()))\n",
        "  li = [x**3 for x in l]\n",
        "  if i == sum(li):\n",
        "      print(i)"
      ],
      "execution_count": null,
      "outputs": []
    },
    {
      "cell_type": "markdown",
      "metadata": {
        "id": "NbbjONOVbIx9",
        "colab_type": "text"
      },
      "source": [
        "#Write a python program to get the list of tuples (rollno, name) for n students by getting rollno and name through keyboard. Sort and print  them as rollno wise and name wise both ascending and descending as well as alphabetical and dealphabetical orders"
      ]
    },
    {
      "cell_type": "code",
      "metadata": {
        "id": "APtwyy9DbUoY",
        "colab_type": "code",
        "colab": {}
      },
      "source": [
        "l = [(int(input(\"Enter rollno of student %d : \"%i)),input(\"Enter name of student %d : \"%i)) for i in range(1,int(input(\"Enter number of students : \"))+1)]\n",
        "print(\"Soted rollno wise in ascending order : \",sorted(l, key = lambda x: x[0]))\n",
        "print(\"Soted rollno wise in descending order : \",sorted(l, key = lambda x: x[0], reverse=True))\n",
        "print(\"Soted name length wise in ascending order : \",sorted(l, key = lambda x: len(x[1])))\n",
        "print(\"Soted name length wise in descending order : \",sorted(l, key = lambda x: len(x[1]), reverse=True))\n",
        "print(\"Sorted in alphabetical order : \",sorted(l,key = lambda x:x[1]))\n",
        "print(\"Sorted in dealphabetical order : \",sorted(l,key = lambda x:x[1],reverse = True))"
      ],
      "execution_count": null,
      "outputs": []
    },
    {
      "cell_type": "markdown",
      "metadata": {
        "id": "K_EEBwH_bjzw",
        "colab_type": "text"
      },
      "source": [
        "#Python Program to Detect if Two Strings are Anagrams ( They are  the two strings which have same length and same words which may be different in their order)"
      ]
    },
    {
      "cell_type": "code",
      "metadata": {
        "id": "Mpqb2EnObpL4",
        "colab_type": "code",
        "colab": {}
      },
      "source": [
        "if(sorted(input(\"Enter string 1 : \")) == sorted(input(\"Enter string 2 : \"))):\n",
        "  print(\"Anagrams\")\n",
        "else:\n",
        "  print(\"Not anagrams\")"
      ],
      "execution_count": null,
      "outputs": []
    }
  ]
}