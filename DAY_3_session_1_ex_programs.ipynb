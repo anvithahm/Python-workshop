{
  "nbformat": 4,
  "nbformat_minor": 0,
  "metadata": {
    "colab": {
      "name": "DAY_3_session_1_ex_programs.ipynb",
      "provenance": [],
      "private_outputs": true,
      "authorship_tag": "ABX9TyPO5IMS5hOFxFF9qPaQ0lYu",
      "include_colab_link": true
    },
    "kernelspec": {
      "name": "python3",
      "display_name": "Python 3"
    }
  },
  "cells": [
    {
      "cell_type": "markdown",
      "metadata": {
        "id": "view-in-github",
        "colab_type": "text"
      },
      "source": [
        "<a href=\"https://colab.research.google.com/github/anvithahm/Python-workshop/blob/master/DAY_3_session_1_ex_programs.ipynb\" target=\"_parent\"><img src=\"https://colab.research.google.com/assets/colab-badge.svg\" alt=\"Open In Colab\"/></a>"
      ]
    },
    {
      "cell_type": "code",
      "metadata": {
        "id": "LW6NkRGsZFt1",
        "colab_type": "code",
        "colab": {}
      },
      "source": [
        ""
      ],
      "execution_count": null,
      "outputs": []
    },
    {
      "cell_type": "markdown",
      "metadata": {
        "id": "Gtoxhh9EZROl",
        "colab_type": "text"
      },
      "source": [
        "# Write a Python program to find numbers between 100 and 400 (both included) which are divisable both by 5 or 7. The numbers obtained should be printed in a comma-separated sequence"
      ]
    },
    {
      "cell_type": "code",
      "metadata": {
        "id": "p0pXCL39ZYNZ",
        "colab_type": "code",
        "colab": {}
      },
      "source": [
        "print(str([x for x in range(100,401) if x%5==0 and x%7==0])[1:-1])"
      ],
      "execution_count": null,
      "outputs": []
    },
    {
      "cell_type": "markdown",
      "metadata": {
        "id": "jOX3K0YlZjDc",
        "colab_type": "text"
      },
      "source": [
        "# Write a Python program to find  prime numbers between 200 and 600 (both included). The numbers obtained should be printed in a comma-separated sequence"
      ]
    },
    {
      "cell_type": "code",
      "metadata": {
        "id": "5gE3llLJZlKm",
        "colab_type": "code",
        "colab": {}
      },
      "source": [
        "print(str([x for x in range(200,601) if all(x%i!=0 for i in range(2,x//2+1))])[1:-1])"
      ],
      "execution_count": null,
      "outputs": []
    },
    {
      "cell_type": "markdown",
      "metadata": {
        "id": "APPern6XZvxw",
        "colab_type": "text"
      },
      "source": [
        "# Write a Python program to find All Numbers which are Odd and Palindromes Between a Range of Numbers without using Recursion. The numbers obtained should be printed in a comma-separated sequence"
      ]
    },
    {
      "cell_type": "code",
      "metadata": {
        "id": "RTzZaQn7Z2Su",
        "colab_type": "code",
        "colab": {}
      },
      "source": [
        "print(','.join([str(x) for x in range(int(input(\"Enter lower limit : \")),int(input(\"Enter upper limit : \"))+1) if x%2==1 and str(x)[::-1] == str(x)]))"
      ],
      "execution_count": null,
      "outputs": []
    },
    {
      "cell_type": "markdown",
      "metadata": {
        "id": "vhFz8W0SZ6xm",
        "colab_type": "text"
      },
      "source": [
        "## Write a Python Program to read a number n and print the series “5+10+…..+n = sum upto n ” . The numbers should be printed  as they are  shown in the quotes with sum of numbers upto n "
      ]
    },
    {
      "cell_type": "code",
      "metadata": {
        "id": "lKVDlKGYaDFf",
        "colab_type": "code",
        "colab": {}
      },
      "source": [
        "n = int(input(\"Enter the limit : \"))\n",
        "for x in range(1,n+1):\n",
        "  if x != n:\n",
        "    print(str(x*5),end = '+')\n",
        "  else:\n",
        "    print(str(x*n),end = ' = ')\n",
        "print(5*n*(n+1)//2)"
      ],
      "execution_count": null,
      "outputs": []
    }
  ]
}